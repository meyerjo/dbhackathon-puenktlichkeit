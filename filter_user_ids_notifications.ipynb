{
 "cells": [
  {
   "cell_type": "code",
   "execution_count": null,
   "metadata": {
    "collapsed": true,
    "pycharm": {
     "name": "#%%\n"
    }
   },
   "outputs": [],
   "source": [
    "import datetime\n",
    "import os\n",
    "import sys\n",
    "from pathlib import Path\n",
    "\n",
    "import matplotlib.pyplot as plt\n",
    "import numpy as np\n",
    "\n",
    "\n",
    "module_path = os.path.abspath(os.path.join('./lib/'))\n",
    "if module_path not in sys.path:\n",
    "    sys.path.append(module_path)\n",
    "from lib.dbahn_utils import BahnUtils"
   ]
  },
  {
   "cell_type": "markdown",
   "source": [
    "Hier den Pfad anpassen in den die paket_1_1_* zips extrahiert wurden"
   ],
   "metadata": {
    "collapsed": false
   }
  },
  {
   "cell_type": "code",
   "execution_count": null,
   "outputs": [],
   "source": [
    "bahn_utils = BahnUtils(Path(os.path.expanduser(f'~/Downloads/')))\n",
    "\n",
    "# Read the data for november\n",
    "folders = ['202010', '202011', '202012']\n",
    "ret_folders = {}\n",
    "for folder in folders:\n",
    "    OUT = bahn_utils.read_data_folder(folder)\n",
    "    ret_folders[folder] = OUT"
   ],
   "metadata": {
    "collapsed": false,
    "pycharm": {
     "name": "#%%\n"
    }
   }
  },
  {
   "cell_type": "markdown",
   "source": [
    "### Now we try to find some interesting ID's to investigate"
   ],
   "metadata": {
    "collapsed": false
   }
  },
  {
   "cell_type": "code",
   "execution_count": null,
   "outputs": [],
   "source": [
    "THRESHOLDS = (70, 100)\n",
    "for folder in folders:\n",
    "    data_uuid_to_notifications = {k: v['type']['ARRIVAL_TIME_CHANGE'] for k, v in ret_folders[folder][1].items()\n",
    "                                  if THRESHOLDS[0] < v['type']['ARRIVAL_TIME_CHANGE'] < THRESHOLDS[1]}\n",
    "    print(f'Folder: {folder}')\n",
    "    print(f'\\tThresholds used for selection {THRESHOLDS}')\n",
    "    for uid, amount_notificiations in data_uuid_to_notifications.items():\n",
    "        print(f'\\t{uid} -> {amount_notificiations} notifications with '\n",
    "              f'channel_address=\"ARRIVAL_TIME_CHANGE\": {amount_notificiations}')"
   ],
   "metadata": {
    "collapsed": false,
    "pycharm": {
     "name": "#%% retrieve some specific ids\n"
    }
   }
  },
  {
   "cell_type": "markdown",
   "source": [
    "### Select one or multiple userids"
   ],
   "metadata": {
    "collapsed": false,
    "pycharm": {
     "name": "#%% md\n"
    }
   }
  },
  {
   "cell_type": "code",
   "execution_count": null,
   "outputs": [],
   "source": [
    "# Specify the app_uuid which you want to export. You can add multiple ids to the list\n",
    "ids_to_filter = ['51578']\n"
   ],
   "metadata": {
    "collapsed": false,
    "pycharm": {
     "name": "#%%\n"
    }
   }
  },
  {
   "cell_type": "code",
   "execution_count": null,
   "outputs": [],
   "source": [
    "\n",
    "# Specify the folders which shall be looked at\n",
    "folders = ['202010', '202011', '202012']\n",
    "# specify the channel_address types which shall be exported\n",
    "channel_addresses = ['CANCELLATION', 'ARRIVAL_TIME_CHANGE', 'DEPARTURE_TIME_CHANGE']\n",
    "\n",
    "# specify the additional fields for the folder\n",
    "additional_detail_fields = ['ArrivalDelay', 'PlannedArrivalTime', 'PlannedPlatform', 'RtPlatform', 'StopId', 'StopName']\n",
    "\n",
    "\n",
    "for folder in folders:\n",
    "    print(f'Going through: {folder}')\n",
    "    _fpath = bahn_utils.get_path(folder)\n",
    "\n",
    "    lines_by_id = bahn_utils.filter_by_id(_fpath, ids_to_filter, channel_addresses)\n",
    "\n",
    "    for id, lines in lines_by_id.items():\n",
    "        with open(f'./output_{folder}_{id}.csv', 'w') as f:\n",
    "            f.writelines(lines)\n"
   ],
   "metadata": {
    "collapsed": false,
    "pycharm": {
     "name": "#%%\n"
    }
   }
  }
 ],
 "metadata": {
  "kernelspec": {
   "display_name": "Python 3",
   "language": "python",
   "name": "python3"
  },
  "language_info": {
   "codemirror_mode": {
    "name": "ipython",
    "version": 2
   },
   "file_extension": ".py",
   "mimetype": "text/x-python",
   "name": "python",
   "nbconvert_exporter": "python",
   "pygments_lexer": "ipython2",
   "version": "2.7.6"
  }
 },
 "nbformat": 4,
 "nbformat_minor": 0
}