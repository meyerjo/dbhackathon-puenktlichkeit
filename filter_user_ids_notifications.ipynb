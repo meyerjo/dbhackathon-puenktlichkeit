{
 "cells": [
  {
   "cell_type": "code",
   "execution_count": 15,
   "metadata": {
    "pycharm": {
     "name": "#%%\n"
    }
   },
   "outputs": [
    {
     "name": "stdout",
     "output_type": "stream",
     "text": [
      "The autoreload extension is already loaded. To reload it, use:\n",
      "  %reload_ext autoreload\n",
      "Modules to reload:\n",
      "all-except-skipped\n",
      "\n",
      "Modules to skip:\n",
      "\n"
     ]
    }
   ],
   "source": [
    "import datetime\n",
    "import os\n",
    "import sys\n",
    "from pathlib import Path\n",
    "\n",
    "import matplotlib.pyplot as plt\n",
    "import numpy as np\n",
    "import datetime\n",
    "\n",
    "module_path = os.path.abspath(os.path.join('./lib/'))\n",
    "if module_path not in sys.path:\n",
    "    sys.path.append(module_path)\n",
    "from lib.dbahn_utils import BahnUtils"
   ]
  },
  {
   "cell_type": "markdown",
   "metadata": {},
   "source": [
    "Hier den Pfad anpassen in den die paket_1_1_* zips extrahiert wurden"
   ]
  },
  {
   "cell_type": "code",
   "execution_count": 23,
   "metadata": {
    "pycharm": {
     "name": "#%%\n"
    }
   },
   "outputs": [
    {
     "name": "stdout",
     "output_type": "stream",
     "text": [
      "2021-03-13 12:04:20.939752 finished reading files\n"
     ]
    }
   ],
   "source": [
    "# bahn_utils = BahnUtils(Path(os.path.expanduser(f'~/Downloads/')))\n",
    "bahn_utils = BahnUtils(Path(\"/home/ben/Schreibtisch/DB_Hackaton/streckenagent/\"))\n",
    "\n",
    "# Read the data for november\n",
    "folders = ['202010', '202011', '202012']\n",
    "ret_folders = {}\n",
    "for folder in folders:\n",
    "    OUT = bahn_utils.read_data_folder(folder)\n",
    "    ret_folders[folder] = OUT\n",
    "print(datetime.datetime.now(), 'finished reading files')"
   ]
  },
  {
   "cell_type": "markdown",
   "metadata": {},
   "source": [
    "### Now we try to find some interesting ID's to investigate"
   ]
  },
  {
   "cell_type": "code",
   "execution_count": 24,
   "metadata": {
    "pycharm": {
     "name": "#%% retrieve some specific ids\n"
    }
   },
   "outputs": [
    {
     "name": "stdout",
     "output_type": "stream",
     "text": [
      "Folder: 202010\n",
      "\tThresholds used for selection (70, 100)\n",
      "\t8 -> 85 notifications with channel_address=\"ARRIVAL_TIME_CHANGE\": 85\n",
      "\t44 -> 98 notifications with channel_address=\"ARRIVAL_TIME_CHANGE\": 98\n",
      "\t89 -> 73 notifications with channel_address=\"ARRIVAL_TIME_CHANGE\": 73\n",
      "\t130 -> 72 notifications with channel_address=\"ARRIVAL_TIME_CHANGE\": 72\n",
      "\t170 -> 90 notifications with channel_address=\"ARRIVAL_TIME_CHANGE\": 90\n",
      "\t180 -> 74 notifications with channel_address=\"ARRIVAL_TIME_CHANGE\": 74\n",
      "\t196 -> 88 notifications with channel_address=\"ARRIVAL_TIME_CHANGE\": 88\n",
      "\t286 -> 76 notifications with channel_address=\"ARRIVAL_TIME_CHANGE\": 76\n",
      "\t351 -> 87 notifications with channel_address=\"ARRIVAL_TIME_CHANGE\": 87\n",
      "\t370 -> 73 notifications with channel_address=\"ARRIVAL_TIME_CHANGE\": 73\n",
      "\t432 -> 78 notifications with channel_address=\"ARRIVAL_TIME_CHANGE\": 78\n",
      "\t518 -> 71 notifications with channel_address=\"ARRIVAL_TIME_CHANGE\": 71\n",
      "\t624 -> 82 notifications with channel_address=\"ARRIVAL_TIME_CHANGE\": 82\n",
      "\t719 -> 99 notifications with channel_address=\"ARRIVAL_TIME_CHANGE\": 99\n",
      "\t818 -> 73 notifications with channel_address=\"ARRIVAL_TIME_CHANGE\": 73\n",
      "\t890 -> 91 notifications with channel_address=\"ARRIVAL_TIME_CHANGE\": 91\n",
      "\t903 -> 88 notifications with channel_address=\"ARRIVAL_TIME_CHANGE\": 88\n",
      "\t1130 -> 78 notifications with channel_address=\"ARRIVAL_TIME_CHANGE\": 78\n",
      "\t1264 -> 97 notifications with channel_address=\"ARRIVAL_TIME_CHANGE\": 97\n",
      "\t1415 -> 94 notifications with channel_address=\"ARRIVAL_TIME_CHANGE\": 94\n",
      "\t1442 -> 82 notifications with channel_address=\"ARRIVAL_TIME_CHANGE\": 82\n",
      "\t1457 -> 97 notifications with channel_address=\"ARRIVAL_TIME_CHANGE\": 97\n",
      "Truncated after 20 lines\n",
      "Folder: 202011\n",
      "\tThresholds used for selection (70, 100)\n",
      "\t51355 -> 82 notifications with channel_address=\"ARRIVAL_TIME_CHANGE\": 82\n",
      "\t407 -> 98 notifications with channel_address=\"ARRIVAL_TIME_CHANGE\": 98\n",
      "\t51536 -> 96 notifications with channel_address=\"ARRIVAL_TIME_CHANGE\": 96\n",
      "\t97924 -> 71 notifications with channel_address=\"ARRIVAL_TIME_CHANGE\": 71\n",
      "\t16611 -> 71 notifications with channel_address=\"ARRIVAL_TIME_CHANGE\": 71\n",
      "\t47813 -> 84 notifications with channel_address=\"ARRIVAL_TIME_CHANGE\": 84\n",
      "\t1549 -> 71 notifications with channel_address=\"ARRIVAL_TIME_CHANGE\": 71\n",
      "\t52262 -> 87 notifications with channel_address=\"ARRIVAL_TIME_CHANGE\": 87\n",
      "\t36780 -> 84 notifications with channel_address=\"ARRIVAL_TIME_CHANGE\": 84\n",
      "\t52369 -> 82 notifications with channel_address=\"ARRIVAL_TIME_CHANGE\": 82\n",
      "\t52241 -> 93 notifications with channel_address=\"ARRIVAL_TIME_CHANGE\": 93\n",
      "\t52751 -> 99 notifications with channel_address=\"ARRIVAL_TIME_CHANGE\": 99\n",
      "\t38645 -> 94 notifications with channel_address=\"ARRIVAL_TIME_CHANGE\": 94\n",
      "\t67380 -> 94 notifications with channel_address=\"ARRIVAL_TIME_CHANGE\": 94\n",
      "\t41088 -> 77 notifications with channel_address=\"ARRIVAL_TIME_CHANGE\": 77\n",
      "\t54936 -> 72 notifications with channel_address=\"ARRIVAL_TIME_CHANGE\": 72\n",
      "\t1264 -> 71 notifications with channel_address=\"ARRIVAL_TIME_CHANGE\": 71\n",
      "\t53995 -> 72 notifications with channel_address=\"ARRIVAL_TIME_CHANGE\": 72\n",
      "\t44317 -> 72 notifications with channel_address=\"ARRIVAL_TIME_CHANGE\": 72\n",
      "\t53700 -> 76 notifications with channel_address=\"ARRIVAL_TIME_CHANGE\": 76\n",
      "\t91098 -> 98 notifications with channel_address=\"ARRIVAL_TIME_CHANGE\": 98\n",
      "\t35990 -> 95 notifications with channel_address=\"ARRIVAL_TIME_CHANGE\": 95\n",
      "Truncated after 20 lines\n",
      "Folder: 202012\n",
      "\tThresholds used for selection (70, 100)\n",
      "\t180 -> 85 notifications with channel_address=\"ARRIVAL_TIME_CHANGE\": 85\n",
      "\t96950 -> 77 notifications with channel_address=\"ARRIVAL_TIME_CHANGE\": 77\n",
      "\t49507 -> 87 notifications with channel_address=\"ARRIVAL_TIME_CHANGE\": 87\n",
      "\t51786 -> 75 notifications with channel_address=\"ARRIVAL_TIME_CHANGE\": 75\n",
      "\t50428 -> 87 notifications with channel_address=\"ARRIVAL_TIME_CHANGE\": 87\n",
      "\t130 -> 91 notifications with channel_address=\"ARRIVAL_TIME_CHANGE\": 91\n",
      "\t32 -> 91 notifications with channel_address=\"ARRIVAL_TIME_CHANGE\": 91\n",
      "\t51536 -> 86 notifications with channel_address=\"ARRIVAL_TIME_CHANGE\": 86\n",
      "\t38037 -> 78 notifications with channel_address=\"ARRIVAL_TIME_CHANGE\": 78\n",
      "\t113526 -> 97 notifications with channel_address=\"ARRIVAL_TIME_CHANGE\": 97\n",
      "\t115613 -> 75 notifications with channel_address=\"ARRIVAL_TIME_CHANGE\": 75\n",
      "\t105988 -> 84 notifications with channel_address=\"ARRIVAL_TIME_CHANGE\": 84\n",
      "\t407 -> 82 notifications with channel_address=\"ARRIVAL_TIME_CHANGE\": 82\n",
      "\t35633 -> 72 notifications with channel_address=\"ARRIVAL_TIME_CHANGE\": 72\n",
      "\t39414 -> 81 notifications with channel_address=\"ARRIVAL_TIME_CHANGE\": 81\n",
      "\t351 -> 79 notifications with channel_address=\"ARRIVAL_TIME_CHANGE\": 79\n",
      "\t44662 -> 99 notifications with channel_address=\"ARRIVAL_TIME_CHANGE\": 99\n",
      "\t17943 -> 88 notifications with channel_address=\"ARRIVAL_TIME_CHANGE\": 88\n",
      "\t114662 -> 76 notifications with channel_address=\"ARRIVAL_TIME_CHANGE\": 76\n",
      "\t1415 -> 81 notifications with channel_address=\"ARRIVAL_TIME_CHANGE\": 81\n",
      "\t52152 -> 84 notifications with channel_address=\"ARRIVAL_TIME_CHANGE\": 84\n",
      "\t93110 -> 93 notifications with channel_address=\"ARRIVAL_TIME_CHANGE\": 93\n",
      "Truncated after 20 lines\n"
     ]
    }
   ],
   "source": [
    "THRESHOLDS = (70, 100)\n",
    "NUMBER_OF_LINES = 20\n",
    "for folder in folders:\n",
    "    data_uuid_to_notifications = {k: v['type']['ARRIVAL_TIME_CHANGE'] for k, v in ret_folders[folder][1].items()\n",
    "                                  if THRESHOLDS[0] < v['type']['ARRIVAL_TIME_CHANGE'] < THRESHOLDS[1]}\n",
    "    print(f'Folder: {folder}')\n",
    "    print(f'\\tThresholds used for selection {THRESHOLDS}')\n",
    "    for i, (uid, amount_notificiations) in enumerate(data_uuid_to_notifications.items()):\n",
    "        print(f'\\t{uid} -> {amount_notificiations} notifications with '\n",
    "              f'channel_address=\"ARRIVAL_TIME_CHANGE\": {amount_notificiations}')\n",
    "        if i > NUMBER_OF_LINES:\n",
    "            print(f'Truncated after {NUMBER_OF_LINES} lines')\n",
    "            break"
   ]
  },
  {
   "cell_type": "markdown",
   "metadata": {
    "pycharm": {
     "name": "#%% md\n"
    }
   },
   "source": [
    "### Select one or multiple userids"
   ]
  },
  {
   "cell_type": "code",
   "execution_count": 20,
   "metadata": {
    "pycharm": {
     "name": "#%%\n"
    }
   },
   "outputs": [],
   "source": [
    "# Specify the app_uuid which you want to export. You can add multiple ids to the list\n",
    "ids_to_filter = ['51578']\n"
   ]
  },
  {
   "cell_type": "code",
   "execution_count": 22,
   "metadata": {
    "pycharm": {
     "name": "#%%\n"
    }
   },
   "outputs": [
    {
     "name": "stdout",
     "output_type": "stream",
     "text": [
      "Going through: 202010\n",
      "Going through: 202011\n",
      "Going through: 202012\n"
     ]
    }
   ],
   "source": [
    "\n",
    "# Specify the folders which shall be looked at\n",
    "folders = ['202010', '202011', '202012']\n",
    "# specify the channel_address types which shall be exported\n",
    "channel_addresses = ['CANCELLATION', 'ARRIVAL_TIME_CHANGE', 'DEPARTURE_TIME_CHANGE']\n",
    "\n",
    "# specify the additional fields for the folder\n",
    "additional_detail_fields = ['ArrivalDelay', 'PlannedArrivalTime', 'PlannedPlatform', 'RtPlatform', 'StopId', 'StopName']\n",
    "\n",
    "\n",
    "for folder in folders:\n",
    "    print(f'Going through: {folder}')\n",
    "    _fpath = bahn_utils.get_path(folder)\n",
    "\n",
    "    lines_by_id = bahn_utils.filter_by_id(_fpath, ids_to_filter, channel_addresses, additional_detail_fields)\n",
    "\n",
    "    for id, lines in lines_by_id.items():\n",
    "        with open(f'./output_{folder}_{id}.csv', 'w') as f:\n",
    "            f.writelines(lines)\n"
   ]
  },
  {
   "cell_type": "code",
   "execution_count": null,
   "metadata": {},
   "outputs": [],
   "source": []
  }
 ],
 "metadata": {
  "kernelspec": {
   "display_name": "Python 3",
   "language": "python",
   "name": "python3"
  },
  "language_info": {
   "codemirror_mode": {
    "name": "ipython",
    "version": 3
   },
   "file_extension": ".py",
   "mimetype": "text/x-python",
   "name": "python",
   "nbconvert_exporter": "python",
   "pygments_lexer": "ipython3",
   "version": "3.8.5"
  }
 },
 "nbformat": 4,
 "nbformat_minor": 1
}
